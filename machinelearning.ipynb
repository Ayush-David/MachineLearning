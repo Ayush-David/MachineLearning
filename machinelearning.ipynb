{
  "nbformat": 4,
  "nbformat_minor": 0,
  "metadata": {
    "colab": {
      "provenance": [],
      "authorship_tag": "ABX9TyMHjljJWQL++Nch2MHXLNCz",
      "include_colab_link": true
    },
    "kernelspec": {
      "name": "python3",
      "display_name": "Python 3"
    },
    "language_info": {
      "name": "python"
    }
  },
  "cells": [
    {
      "cell_type": "markdown",
      "metadata": {
        "id": "view-in-github",
        "colab_type": "text"
      },
      "source": [
        "<a href=\"https://colab.research.google.com/github/Ayush-David/MachineLearning/blob/main/machinelearning.ipynb\" target=\"_parent\"><img src=\"https://colab.research.google.com/assets/colab-badge.svg\" alt=\"Open In Colab\"/></a>"
      ]
    },
    {
      "cell_type": "code",
      "execution_count": null,
      "metadata": {
        "id": "Ltq7hmf27qNY"
      },
      "outputs": [],
      "source": [
        "import tensorflow as tf\n",
        "import pandas as pd\n",
        "import matplotlib.pyplot as plt\n",
        "import numpy as np"
      ]
    },
    {
      "cell_type": "code",
      "source": [
        "fmnist=tf.keras.datasets.fashion_mnist\n"
      ],
      "metadata": {
        "id": "0trS-5uL85oT"
      },
      "execution_count": null,
      "outputs": []
    },
    {
      "cell_type": "code",
      "source": [
        "(training_images,training_lables),(testing_images,testing_lables)=fmnist.load_data()"
      ],
      "metadata": {
        "id": "IbtjGEL--10V",
        "colab": {
          "base_uri": "https://localhost:8080/"
        },
        "outputId": "fe8ec341-0f4b-44a5-e938-4ddf9e5fd915"
      },
      "execution_count": null,
      "outputs": [
        {
          "output_type": "stream",
          "name": "stdout",
          "text": [
            "Downloading data from https://storage.googleapis.com/tensorflow/tf-keras-datasets/train-labels-idx1-ubyte.gz\n",
            "29515/29515 [==============================] - 0s 0us/step\n",
            "Downloading data from https://storage.googleapis.com/tensorflow/tf-keras-datasets/train-images-idx3-ubyte.gz\n",
            "26421880/26421880 [==============================] - 0s 0us/step\n",
            "Downloading data from https://storage.googleapis.com/tensorflow/tf-keras-datasets/t10k-labels-idx1-ubyte.gz\n",
            "5148/5148 [==============================] - 0s 0us/step\n",
            "Downloading data from https://storage.googleapis.com/tensorflow/tf-keras-datasets/t10k-images-idx3-ubyte.gz\n",
            "4422102/4422102 [==============================] - 0s 0us/step\n"
          ]
        }
      ]
    },
    {
      "cell_type": "code",
      "source": [],
      "metadata": {
        "id": "Rk2UvsztDVJi"
      },
      "execution_count": null,
      "outputs": []
    },
    {
      "cell_type": "code",
      "source": [
        "index=8\n",
        "np.set_printoptions(linewidth=320)"
      ],
      "metadata": {
        "id": "78xPL_lk_fCF"
      },
      "execution_count": null,
      "outputs": []
    },
    {
      "cell_type": "code",
      "source": [
        "print(f'Label:{training_lables[index]}')\n",
        "print(f'\\nIMAGE PIXELS ARRAY: \\n{training_images[index]}')\n",
        "plt.imshow(training_images[index])"
      ],
      "metadata": {
        "colab": {
          "base_uri": "https://localhost:8080/",
          "height": 985
        },
        "id": "GuiHV14IAHhr",
        "outputId": "123ac259-e0bc-4b43-f930-33f83e3f5ef8"
      },
      "execution_count": null,
      "outputs": [
        {
          "output_type": "stream",
          "name": "stdout",
          "text": [
            "Label:5\n",
            "\n",
            "IMAGE PIXELS ARRAY: \n",
            "[[  0   0   0   0   0   0   0   0   0   0   0   0   0   0   0   0   0   0   0   0   0   0   0   0   0   0   0   0]\n",
            " [  0   0   0   0   0   0   0   0   0   0   0   0   0   0   0   0   0   0   0   0   0   0   0   0   0   0   0   0]\n",
            " [  0   0   0   0   0   0   0   0   0   0   0   0   1   3   1   0   0   1   1   0   0   0   0  58   0  39   1   0]\n",
            " [  0   0   0   0   0   0   0   0   0   0   0   0   1   3   0   0   0   0   0   0   0  64 109 146 192 193   7   0]\n",
            " [  0   0   0   0   0   0   0   0   0   1   0   0   0   0   0   0  94  38  99 209 183 229 192 142  48   0   0   0]\n",
            " [  0   0   0   0   0   0   0   0   0   1   0   0   0   0  41  45 158 146 164 114  51   1  53 105  42  36   0   0]\n",
            " [  0   0   0   0   0   0   0   0   0   0   0   0  10  68  44  30  59 172 146   0  22   0  13 103 111 103   0   0]\n",
            " [  0   0   0   0   0   0   0   0   0   3   1   0  22  61  88 152 255  71   0   0   0   0  35  85 112 201  44   0]\n",
            " [  0   0   0   0   0   0   0   0   0   1   0   0  13  62 154  62   0   0   0   0   0   0  54  99  61 106  51  19]\n",
            " [  0   0   0   0   0   0   0   0   0   0   0   0   0   0   0   0   9   1   0   0   1   0  79  82  47  33  58  50]\n",
            " [  0   0   0   0   0   0   0   0   0   0   0   0   0   3   1   3   9   3   0   0   1   0 100  88  48  35  70  54]\n",
            " [  0   0   0   0   0   0   0   0   0   0   0   0   0   0   0   0   0   3   0   1   0   0 111 195 119  29  58  45]\n",
            " [  0   0   0   0   0   0   0   1   0   0   0   0   0   0   0   0   0   0   3   3   0   0  91 146 171  16  93  35]\n",
            " [  0   0   0   0   0   0   0   0   0   0   0   0   0   0   0   0   0   0   0   0   0  48  45   3  79  87  99   6]\n",
            " [  0   0   0   0   0   0   0   0   0   0   0   0   0   0   0   0   0   3   0   0 119 137  33  96  77  13  45   0]\n",
            " [  0   0   0   0   0   0   0   0   0   0   0   0   0   0   0   0   0   0  32 160 164 142 116  79  82  39  39   0]\n",
            " [  0   0   0   0   3   0   0   0   0   0   0   0   0   3   4  10   0  41 180 142 171   1   0   0  48  73  16   0]\n",
            " [  0   0   0   0   0   0   1   1   0   0   0   0   0   0   3   0  27 155 114 169   0   0   0   0  47  76   6   0]\n",
            " [  0   0   0   0   0   0   0   0   0   0   0   0   1   0   0   0 155 129 160   0   0   0   0   0  45  96   0   0]\n",
            " [  0   0   0   0   1   0  16  39  64   0   0   0   0   0   0 129 151 175   0   0   0   4   4   0  48 116   0   0]\n",
            " [  0   0   0   0   0   0  58  87  73  10   0   0   0   0  27 187 195   0   0   0   0   3   1   0  47 146   0   0]\n",
            " [  1   0   0   0   1   0   0   0   0   0   0   0   0   0 181 225  45   0   0   0   0   0   1   0  45 186   0   0]\n",
            " [  0   0   0   0   0   0   1 183 210  90   0   0   0 126 253 142   0   0   0   0   0   0   1   0  48 203   0   0]\n",
            " [ 64  58  45  27  16   9   1 175 245 204  22   0  70 236 190   6   0   0   0   0   0   0   0   0  50 196   0   0]\n",
            " [ 96 128 149 163 158 140 138 146 154 108  90 148 193 177  36   0   7   0   0   0   0   0   0   0  41 125   0   0]\n",
            " [  0   0   0   0  19  47  65  93  94 125 166 180 119  29   0   0   0   0   0   0   0   0   0   0  32 238   0   0]\n",
            " [  0   0   0   0   0   0   0   0   0   0   0   0   0   0   0   0   0   0   0   0   0   0   0   0   0 131   0   0]\n",
            " [  0   0   0   0   0   0   0   0   0   0   0   0   0   0   0   0   0   0   0   0   0   0   0   0   0   0   0   0]]\n"
          ]
        },
        {
          "output_type": "execute_result",
          "data": {
            "text/plain": [
              "<matplotlib.image.AxesImage at 0x7b049f21ee30>"
            ]
          },
          "metadata": {},
          "execution_count": 6
        },
        {
          "output_type": "display_data",
          "data": {
            "text/plain": [
              "<Figure size 640x480 with 1 Axes>"
            ],
            "image/png": "[encoded data removed]"
          },
          "metadata": {}
        }
      ]
    },
    {
      "cell_type": "code",
      "source": [
        "training_images=training_images/255.0\n",
        "testing_images=testing_images/255.0"
      ],
      "metadata": {
        "id": "7qsBRhbeBT-a"
      },
      "execution_count": null,
      "outputs": []
    },
    {
      "cell_type": "code",
      "source": [
        "model=tf.keras.Sequential([tf.keras.layers.Flatten(),\n",
        "                           tf.keras.layers.Dense(128,activation=tf.nn.relu),\n",
        "                                    tf.keras.layers.Dense(10, activation=tf.nn.softmax)])\n"
      ],
      "metadata": {
        "id": "it6TE2sOBmPS"
      },
      "execution_count": null,
      "outputs": []
    },
    {
      "cell_type": "code",
      "source": [
        "model.compile(optimizer = tf.optimizers.Adam(),\n",
        "              loss = 'sparse_categorical_crossentropy',\n",
        "              metrics=['accuracy'])\n",
        "\n",
        "model.fit(training_images,training_lables, epochs=5)"
      ],
      "metadata": {
        "colab": {
          "base_uri": "https://localhost:8080/"
        },
        "id": "C6bYhE_OCc50",
        "outputId": "bf7793ac-6e34-417e-874b-7356e8e825a4"
      },
      "execution_count": null,
      "outputs": [
        {
          "output_type": "stream",
          "name": "stdout",
          "text": [
            "Epoch 1/5\n",
            "1875/1875 [==============================] - 15s 7ms/step - loss: 0.5031 - accuracy: 0.8237\n",
            "Epoch 2/5\n",
            "1875/1875 [==============================] - 8s 4ms/step - loss: 0.3770 - accuracy: 0.8630\n",
            "Epoch 3/5\n",
            "1875/1875 [==============================] - 6s 3ms/step - loss: 0.3350 - accuracy: 0.8787\n",
            "Epoch 4/5\n",
            "1875/1875 [==============================] - 7s 4ms/step - loss: 0.3109 - accuracy: 0.8857\n",
            "Epoch 5/5\n",
            "1875/1875 [==============================] - 6s 3ms/step - loss: 0.2916 - accuracy: 0.8931\n"
          ]
        },
        {
          "output_type": "execute_result",
          "data": {
            "text/plain": [
              "<keras.src.callbacks.History at 0x7b049f13ca90>"
            ]
          },
          "metadata": {},
          "execution_count": 9
        }
      ]
    },
    {
      "cell_type": "code",
      "source": [
        "model.evaluate(testing_images,testing_lables)"
      ],
      "metadata": {
        "colab": {
          "base_uri": "https://localhost:8080/"
        },
        "id": "c5pHFkYVEghU",
        "outputId": "877c28f3-3955-4e46-888e-f7b7d0634804"
      },
      "execution_count": null,
      "outputs": [
        {
          "output_type": "stream",
          "name": "stdout",
          "text": [
            "313/313 [==============================] - 1s 2ms/step - loss: 0.3583 - accuracy: 0.8734\n"
          ]
        },
        {
          "output_type": "execute_result",
          "data": {
            "text/plain": [
              "[0.3583289682865143, 0.8733999729156494]"
            ]
          },
          "metadata": {},
          "execution_count": 10
        }
      ]
    },
    {
      "cell_type": "code",
      "source": [
        "class myCallback(tf.keras.callbacks.Callback):\n",
        "  def on_epoch_end(self, epoch, logs={}):\n",
        "    if(logs.get('loss') < 0.4):\n",
        "      print(\"\\nLoss is lower than 0.4 so cancelling training!\")\n",
        "      self.model.stop_training = True\n",
        "callbacks = myCallback()"
      ],
      "metadata": {
        "id": "SYNdH8RAxN3Y"
      },
      "execution_count": null,
      "outputs": []
    },
    {
      "cell_type": "code",
      "source": [
        "fmnist = tf.keras.datasets.fashion_mnist\n",
        "\n",
        "(training_images, training_labels) ,  (test_images, test_labels) = fmnist.load_data()\n",
        "\n",
        "training_images = training_images/255.0\n",
        "test_images = test_images/255.0\n",
        "\n",
        "model = tf.keras.models.Sequential([tf.keras.layers.Flatten(),\n",
        "                                    tf.keras.layers.Dense(512, activation=tf.nn.relu),\n",
        "                                    tf.keras.layers.Dense(512, activation=tf.nn.relu),\n",
        "                                    tf.keras.layers.Dense(10, activation=tf.nn.softmax)])\n",
        "\n",
        "model.compile(optimizer = 'adam',\n",
        "              loss = 'sparse_categorical_crossentropy')\n",
        "\n",
        "model.fit(training_images, training_labels, epochs=10,callbacks=[callbacks])\n",
        "\n",
        "model.evaluate(test_images, test_labels)\n",
        "\n",
        "classifications = model.predict(test_images)\n",
        "\n",
        "print(classifications[0])\n",
        "print(test_labels[0])"
      ],
      "metadata": {
        "colab": {
          "base_uri": "https://localhost:8080/"
        },
        "id": "mB2lqPwoE6Nk",
        "outputId": "b0312c8b-1d35-4a9a-d9b0-bb12fcbe1014"
      },
      "execution_count": null,
      "outputs": [
        {
          "output_type": "stream",
          "name": "stdout",
          "text": [
            "Downloading data from https://storage.googleapis.com/tensorflow/tf-keras-datasets/train-labels-idx1-ubyte.gz\n",
            "29515/29515 [==============================] - 0s 0us/step\n",
            "Downloading data from https://storage.googleapis.com/tensorflow/tf-keras-datasets/train-images-idx3-ubyte.gz\n",
            "26421880/26421880 [==============================] - 0s 0us/step\n",
            "Downloading data from https://storage.googleapis.com/tensorflow/tf-keras-datasets/t10k-labels-idx1-ubyte.gz\n",
            "5148/5148 [==============================] - 0s 0us/step\n",
            "Downloading data from https://storage.googleapis.com/tensorflow/tf-keras-datasets/t10k-images-idx3-ubyte.gz\n",
            "4422102/4422102 [==============================] - 0s 0us/step\n",
            "Epoch 1/10\n",
            "1875/1875 [==============================] - 29s 15ms/step - loss: 0.4650\n",
            "Epoch 2/10\n",
            "1874/1875 [============================>.] - ETA: 0s - loss: 0.3541\n",
            "Loss is lower than 0.4 so cancelling training!\n",
            "1875/1875 [==============================] - 15s 8ms/step - loss: 0.3541\n",
            "313/313 [==============================] - 1s 2ms/step - loss: 0.3762\n",
            "313/313 [==============================] - 1s 2ms/step\n",
            "[2.01927523e-05 4.85906548e-06 1.63284349e-05 6.01673901e-06\n",
            " 2.12999494e-05 1.00312315e-01 7.81000417e-05 9.91221815e-02\n",
            " 1.98980706e-05 8.00398707e-01]\n",
            "9\n"
          ]
        }
      ]
    }
  ]
}